{
 "cells": [
  {
   "cell_type": "markdown",
   "id": "1f687d5c",
   "metadata": {},
   "source": [
    "# Spark HR Data Pipeline Project"
   ]
  },
  {
   "cell_type": "markdown",
   "id": "6a948e16",
   "metadata": {},
   "source": [
    "## Prerequisites\n",
    "1. Install required libraries and prepare spark environment"
   ]
  },
  {
   "cell_type": "code",
   "execution_count": 1,
   "id": "c99cc1eb",
   "metadata": {},
   "outputs": [
    {
     "name": "stdout",
     "output_type": "stream",
     "text": [
      "Defaulting to user installation because normal site-packages is not writeable\n",
      "Collecting pyspark\n",
      "  Downloading pyspark-4.0.1.tar.gz (434.2 MB)\n",
      "\u001b[2K     \u001b[90m━━━━━━━━━━━━━━━━━━━━━━━━━━━━━━━━━━━━━━\u001b[0m \u001b[32m434.2/434.2 MB\u001b[0m \u001b[31m37.2 MB/s\u001b[0m eta \u001b[36m0:00:00\u001b[0m00:01\u001b[0m00:01\u001b[0m\n",
      "\u001b[?25h  Installing build dependencies ... \u001b[?25ldone\n",
      "\u001b[?25h  Getting requirements to build wheel ... \u001b[?25ldone\n",
      "\u001b[?25h  Preparing metadata (pyproject.toml) ... \u001b[?25ldone\n",
      "\u001b[?25hCollecting findspark\n",
      "  Using cached findspark-2.0.1-py2.py3-none-any.whl.metadata (352 bytes)\n",
      "Collecting wget\n",
      "  Downloading wget-3.2.zip (10 kB)\n",
      "  Installing build dependencies ... \u001b[?25ldone\n",
      "\u001b[?25h  Getting requirements to build wheel ... \u001b[?25ldone\n",
      "\u001b[?25h  Preparing metadata (pyproject.toml) ... \u001b[?25ldone\n",
      "\u001b[?25hCollecting py4j==0.10.9.9 (from pyspark)\n",
      "  Using cached py4j-0.10.9.9-py2.py3-none-any.whl.metadata (1.3 kB)\n",
      "Using cached py4j-0.10.9.9-py2.py3-none-any.whl (203 kB)\n",
      "Using cached findspark-2.0.1-py2.py3-none-any.whl (4.4 kB)\n",
      "Building wheels for collected packages: pyspark, wget\n",
      "  Building wheel for pyspark (pyproject.toml) ... \u001b[?25ldone\n",
      "\u001b[?25h  Created wheel for pyspark: filename=pyspark-4.0.1-py2.py3-none-any.whl size=434813860 sha256=aee97cb8d7b51e9964f4e003737e0a8baa8cd8c182eeeb6aaefa14cc771dee1f\n",
      "  Stored in directory: /home/maishuji/.cache/pip/wheels/00/e3/92/8594f4cee2c9fd4ad82fe85e4bf2559ab8ea84ef19b1dd3d15\n",
      "  Building wheel for wget (pyproject.toml) ... \u001b[?25ldone\n",
      "\u001b[?25h  Created wheel for wget: filename=wget-3.2-py3-none-any.whl size=9685 sha256=9fd502741f833348d28814c42407bcbe42bf6efe6a6c4a2691a6522a1cebaeed\n",
      "  Stored in directory: /home/maishuji/.cache/pip/wheels/8a/b8/04/0c88fb22489b0c049bee4e977c5689c7fe597d6c4b0e7d0b6a\n",
      "Successfully built pyspark wget\n",
      "Installing collected packages: wget, py4j, findspark, pyspark\n",
      "\u001b[2K   \u001b[90m━━━━━━━━━━━━━━━━━━━━━━━━━━━━━━━━━━━━━━━━\u001b[0m \u001b[32m4/4\u001b[0m [pyspark]m3/4\u001b[0m [pyspark]\n",
      "\u001b[1A\u001b[2KSuccessfully installed findspark-2.0.1 py4j-0.10.9.9 pyspark-4.0.1 wget-3.2\n",
      "\n",
      "\u001b[1m[\u001b[0m\u001b[34;49mnotice\u001b[0m\u001b[1;39;49m]\u001b[0m\u001b[39;49m A new release of pip is available: \u001b[0m\u001b[31;49m25.1.1\u001b[0m\u001b[39;49m -> \u001b[0m\u001b[32;49m25.2\u001b[0m\n",
      "\u001b[1m[\u001b[0m\u001b[34;49mnotice\u001b[0m\u001b[1;39;49m]\u001b[0m\u001b[39;49m To update, run: \u001b[0m\u001b[32;49mpip3.13 install --upgrade pip\u001b[0m\n",
      "Note: you may need to restart the kernel to use updated packages.\n"
     ]
    }
   ],
   "source": [
    "# Installing requuired packages\n",
    "%pip install pyspark  findspark wget\n"
   ]
  },
  {
   "cell_type": "code",
   "execution_count": 4,
   "id": "e17809a5",
   "metadata": {},
   "outputs": [],
   "source": [
    "import findspark\n",
    "\n",
    "findspark.init()"
   ]
  },
  {
   "cell_type": "code",
   "execution_count": null,
   "id": "870e0e9a",
   "metadata": {},
   "outputs": [],
   "source": [
    "# PySpark is the Spark API for Python. We use PySpark to initialize the SparkContext.\n",
    "\n",
    "from pyspark import SparkContext, SparkConf\n",
    "\n",
    "from pyspark.sql import SparkSession"
   ]
  },
  {
   "cell_type": "code",
   "execution_count": null,
   "id": "8677c760",
   "metadata": {},
   "outputs": [
    {
     "name": "stderr",
     "output_type": "stream",
     "text": [
      "WARNING: Using incubator modules: jdk.incubator.vector\n",
      "Using Spark's default log4j profile: org/apache/spark/log4j2-defaults.properties\n",
      "25/09/10 15:32:52 WARN Utils: Your hostname, maishuji, resolves to a loopback address: 127.0.1.1; using 192.168.0.14 instead (on interface wlp4s0)\n",
      "25/09/10 15:32:52 WARN Utils: Set SPARK_LOCAL_IP if you need to bind to another address\n",
      "Using Spark's default log4j profile: org/apache/spark/log4j2-defaults.properties\n",
      "Setting default log level to \"WARN\".\n",
      "To adjust logging level use sc.setLogLevel(newLevel). For SparkR, use setLogLevel(newLevel).\n",
      "25/09/10 15:32:52 WARN NativeCodeLoader: Unable to load native-hadoop library for your platform... using builtin-java classes where applicable\n",
      "25/09/10 15:32:53 WARN Utils: Service 'SparkUI' could not bind on port 4040. Attempting port 4041.\n"
     ]
    }
   ],
   "source": [
    "# Creating a SparkContext object\n",
    "sc = SparkContext.getOrCreate()\n",
    "\n",
    "# Creating a SparkSession\n",
    "\n",
    "spark = SparkSession.builder.appName(\n",
    "    \"Python Spark HR Data Pipeline Project\"\n",
    ").getOrCreate()"
   ]
  },
  {
   "cell_type": "markdown",
   "id": "f43f96a1",
   "metadata": {},
   "source": [
    "2. Download the CSV data"
   ]
  },
  {
   "cell_type": "code",
   "execution_count": null,
   "id": "0e888896",
   "metadata": {},
   "outputs": [
    {
     "data": {
      "text/plain": [
       "'employees.csv'"
      ]
     },
     "execution_count": 5,
     "metadata": {},
     "output_type": "execute_result"
    }
   ],
   "source": [
    "# Download the CSV data first into a local `employees.csv` file\n",
    "import wget\n",
    "\n",
    "wget.download(\n",
    "    \"https://cf-courses-data.s3.us.cloud-object-storage.appdomain.cloud/IBM-BD0225EN-SkillsNetwork/data/employees.csv\"\n",
    ")"
   ]
  },
  {
   "cell_type": "markdown",
   "id": "60bf5add",
   "metadata": {},
   "source": [
    "## Tasks\n",
    "\n",
    "1. Generate a Spark DataFrame from the CSV data"
   ]
  },
  {
   "cell_type": "code",
   "execution_count": 7,
   "id": "8a25e5f6",
   "metadata": {},
   "outputs": [
    {
     "name": "stdout",
     "output_type": "stream",
     "text": [
      "+------+---------+------+---+----------+\n",
      "|Emp_No| Emp_Name|Salary|Age|Department|\n",
      "+------+---------+------+---+----------+\n",
      "|   198|   Donald|  2600| 29|        IT|\n",
      "|   199|  Douglas|  2600| 34|     Sales|\n",
      "|   200| Jennifer|  4400| 36| Marketing|\n",
      "|   201|  Michael| 13000| 32|        IT|\n",
      "|   202|      Pat|  6000| 39|        HR|\n",
      "|   203|    Susan|  6500| 36| Marketing|\n",
      "|   204|  Hermann| 10000| 29|   Finance|\n",
      "|   205|  Shelley| 12008| 33|   Finance|\n",
      "|   206|  William|  8300| 37|        IT|\n",
      "|   100|   Steven| 24000| 39|        IT|\n",
      "|   101|    Neena| 17000| 27|     Sales|\n",
      "|   102|      Lex| 17000| 37| Marketing|\n",
      "|   103|Alexander|  9000| 39| Marketing|\n",
      "|   104|    Bruce|  6000| 38|        IT|\n",
      "|   105|    David|  4800| 39|        IT|\n",
      "|   106|    Valli|  4800| 38|     Sales|\n",
      "|   107|    Diana|  4200| 35|     Sales|\n",
      "|   108|    Nancy| 12008| 28|     Sales|\n",
      "|   109|   Daniel|  9000| 35|        HR|\n",
      "|   110|     John|  8200| 31| Marketing|\n",
      "+------+---------+------+---+----------+\n",
      "only showing top 20 rows\n"
     ]
    }
   ],
   "source": [
    "# Read data from the \"employees\" CSV file and import it into a DataFrame variable named \"employees_df\"\n",
    "employees_df = spark.read.csv(\"employees.csv\", header=True, inferSchema=True)\n",
    "employees_df.show()\n"
   ]
  },
  {
   "cell_type": "markdown",
   "id": "9fe553fd",
   "metadata": {},
   "source": [
    "2. Define q schema for the data"
   ]
  },
  {
   "cell_type": "code",
   "execution_count": 26,
   "id": "46a4436b",
   "metadata": {},
   "outputs": [
    {
     "name": "stdout",
     "output_type": "stream",
     "text": [
      "root\n",
      " |-- employee_id: integer (nullable = true)\n",
      " |-- employee_name: string (nullable = true)\n",
      " |-- salary: double (nullable = true)\n",
      " |-- age: integer (nullable = true)\n",
      " |-- department_name: string (nullable = true)\n",
      "\n"
     ]
    }
   ],
   "source": [
    "# Lets first print the inferred schema\n",
    "employees_df.printSchema()"
   ]
  },
  {
   "cell_type": "code",
   "execution_count": 27,
   "id": "48480dfe",
   "metadata": {},
   "outputs": [],
   "source": [
    "from pyspark.sql.types import (\n",
    "    StructType,\n",
    "    StructField,\n",
    "    StringType,\n",
    "    IntegerType,\n",
    "    DoubleType,\n",
    ")\n",
    "\n",
    "# Now we define an improved schema with precise data types\n",
    "employees_schema_improved = StructType(\n",
    "    [\n",
    "    StructField(\"Emp_No\", IntegerType(), True),\n",
    "    StructField(\"Emp_Name\", StringType(), True),\n",
    "    StructField(\"Salary\", DoubleType(), True),  # Matches CSV header\n",
    "    StructField(\"Age\", IntegerType(), True),\n",
    "    StructField(\"Department\", StringType(), True)  # Matches CSV header\n",
    "    ]\n",
    ")"
   ]
  },
  {
   "cell_type": "code",
   "execution_count": 28,
   "id": "286f8b03",
   "metadata": {},
   "outputs": [],
   "source": [
    "# Apply the new schema\n",
    "employees_df = spark.read.csv(\n",
    "    \"employees.csv\", schema=employees_schema_improved, header=True\n",
    ")"
   ]
  },
  {
   "cell_type": "code",
   "execution_count": 29,
   "id": "662c646f",
   "metadata": {},
   "outputs": [],
   "source": [
    "# Rename columns to have consistent naming conventions\n",
    "employees_df = employees_df \\\n",
    "    .withColumnRenamed(\"Emp_No\", \"employee_id\") \\\n",
    "    .withColumnRenamed(\"Emp_Name\", \"employee_name\") \\\n",
    "    .withColumnRenamed(\"Salary\", \"salary\") \\\n",
    "    .withColumnRenamed(\"Department\", \"department_name\") \\\n",
    "    .withColumnRenamed(\"Age\", \"age\")"
   ]
  },
  {
   "cell_type": "markdown",
   "id": "56e94753",
   "metadata": {},
   "source": [
    "3. Dislay schema of DataFrame"
   ]
  },
  {
   "cell_type": "code",
   "execution_count": 30,
   "id": "c3eef1ed",
   "metadata": {},
   "outputs": [
    {
     "name": "stdout",
     "output_type": "stream",
     "text": [
      "root\n",
      " |-- employee_id: integer (nullable = true)\n",
      " |-- employee_name: string (nullable = true)\n",
      " |-- salary: double (nullable = true)\n",
      " |-- age: integer (nullable = true)\n",
      " |-- department_name: string (nullable = true)\n",
      "\n"
     ]
    }
   ],
   "source": [
    "employees_df.printSchema()"
   ]
  },
  {
   "cell_type": "markdown",
   "id": "22cca9b0",
   "metadata": {},
   "source": [
    "4. Create a temporary view"
   ]
  },
  {
   "cell_type": "code",
   "execution_count": 31,
   "id": "9d464d45",
   "metadata": {},
   "outputs": [],
   "source": [
    "# Create a temporary view so that we can run SQL queries against the DataFrame\n",
    "employees_df.createOrReplaceTempView(\"employees\")"
   ]
  },
  {
   "cell_type": "markdown",
   "id": "794fc414",
   "metadata": {},
   "source": [
    "5. Execute an SQL query"
   ]
  },
  {
   "cell_type": "code",
   "execution_count": 32,
   "id": "2cfebe80",
   "metadata": {},
   "outputs": [
    {
     "name": "stdout",
     "output_type": "stream",
     "text": [
      "+-----------+-------------+-------+---+---------------+\n",
      "|employee_id|employee_name| salary|age|department_name|\n",
      "+-----------+-------------+-------+---+---------------+\n",
      "|        199|      Douglas| 2600.0| 34|          Sales|\n",
      "|        200|     Jennifer| 4400.0| 36|      Marketing|\n",
      "|        201|      Michael|13000.0| 32|             IT|\n",
      "|        202|          Pat| 6000.0| 39|             HR|\n",
      "|        203|        Susan| 6500.0| 36|      Marketing|\n",
      "|        205|      Shelley|12008.0| 33|        Finance|\n",
      "|        206|      William| 8300.0| 37|             IT|\n",
      "|        100|       Steven|24000.0| 39|             IT|\n",
      "|        102|          Lex|17000.0| 37|      Marketing|\n",
      "|        103|    Alexander| 9000.0| 39|      Marketing|\n",
      "|        104|        Bruce| 6000.0| 38|             IT|\n",
      "|        105|        David| 4800.0| 39|             IT|\n",
      "|        106|        Valli| 4800.0| 38|          Sales|\n",
      "|        107|        Diana| 4200.0| 35|          Sales|\n",
      "|        109|       Daniel| 9000.0| 35|             HR|\n",
      "|        110|         John| 8200.0| 31|      Marketing|\n",
      "|        111|       Ismael| 7700.0| 32|             IT|\n",
      "|        112|  Jose Manuel| 7800.0| 34|             HR|\n",
      "|        113|         Luis| 6900.0| 34|          Sales|\n",
      "|        116|       Shelli| 2900.0| 37|        Finance|\n",
      "+-----------+-------------+-------+---+---------------+\n",
      "only showing top 20 rows\n"
     ]
    }
   ],
   "source": [
    "# SQL query to fetch only the records from the view where the age is greater than 30\n",
    "sql_query = \"SELECT * FROM employees WHERE age > 30\"\n",
    "result_df = spark.sql(sql_query)\n",
    "result_df.show()"
   ]
  },
  {
   "cell_type": "markdown",
   "id": "4ef83d21",
   "metadata": {},
   "source": [
    "6. Calculate Average Salary by Department"
   ]
  },
  {
   "cell_type": "code",
   "execution_count": 33,
   "id": "a25abf86",
   "metadata": {},
   "outputs": [
    {
     "name": "stdout",
     "output_type": "stream",
     "text": [
      "+---------------+-----------------+\n",
      "|department_name|   average_salary|\n",
      "+---------------+-----------------+\n",
      "|             IT|           7400.0|\n",
      "|      Marketing|6633.333333333333|\n",
      "|             HR|           5837.5|\n",
      "|        Finance|           5730.8|\n",
      "|          Sales|5492.923076923077|\n",
      "+---------------+-----------------+\n",
      "\n"
     ]
    }
   ],
   "source": [
    "sql_query_avg_salary = \"\"\"\n",
    "SELECT department_name, AVG(salary) AS average_salary\n",
    "FROM employees\n",
    "GROUP BY department_name\n",
    "ORDER BY average_salary DESC\n",
    "\"\"\"\n",
    "avg_salary_df = spark.sql(sql_query_avg_salary)\n",
    "avg_salary_df.show()"
   ]
  },
  {
   "cell_type": "markdown",
   "id": "74c6ab17",
   "metadata": {},
   "source": [
    "7. Filter to select records from the IT departement"
   ]
  },
  {
   "cell_type": "code",
   "execution_count": 34,
   "id": "58fc9d48",
   "metadata": {},
   "outputs": [
    {
     "name": "stdout",
     "output_type": "stream",
     "text": [
      "+-----------+-------------+-------+---+---------------+\n",
      "|employee_id|employee_name| salary|age|department_name|\n",
      "+-----------+-------------+-------+---+---------------+\n",
      "|        198|       Donald| 2600.0| 29|             IT|\n",
      "|        201|      Michael|13000.0| 32|             IT|\n",
      "|        206|      William| 8300.0| 37|             IT|\n",
      "|        100|       Steven|24000.0| 39|             IT|\n",
      "|        104|        Bruce| 6000.0| 38|             IT|\n",
      "|        105|        David| 4800.0| 39|             IT|\n",
      "|        111|       Ismael| 7700.0| 32|             IT|\n",
      "|        129|        Laura| 3300.0| 38|             IT|\n",
      "|        132|           TJ| 2100.0| 34|             IT|\n",
      "|        136|        Hazel| 2200.0| 29|             IT|\n",
      "+-----------+-------------+-------+---+---------------+\n",
      "\n"
     ]
    }
   ],
   "source": [
    "employees_df.filter(employees_df.department_name == \"IT\").show()"
   ]
  },
  {
   "cell_type": "markdown",
   "id": "3450802b",
   "metadata": {},
   "source": [
    "8. Add 10% Bonus to Salaries ( with new column `salary_after_bonus`)"
   ]
  },
  {
   "cell_type": "code",
   "execution_count": 36,
   "id": "fd6090f6",
   "metadata": {},
   "outputs": [
    {
     "name": "stdout",
     "output_type": "stream",
     "text": [
      "+-----------+-------------+-------+---+---------------+------------------+\n",
      "|employee_id|employee_name| salary|age|department_name|salary_after_bonus|\n",
      "+-----------+-------------+-------+---+---------------+------------------+\n",
      "|        198|       Donald| 2600.0| 29|             IT|2860.0000000000005|\n",
      "|        199|      Douglas| 2600.0| 34|          Sales|2860.0000000000005|\n",
      "|        200|     Jennifer| 4400.0| 36|      Marketing|            4840.0|\n",
      "|        201|      Michael|13000.0| 32|             IT|14300.000000000002|\n",
      "|        202|          Pat| 6000.0| 39|             HR| 6600.000000000001|\n",
      "|        203|        Susan| 6500.0| 36|      Marketing| 7150.000000000001|\n",
      "|        204|      Hermann|10000.0| 29|        Finance|           11000.0|\n",
      "|        205|      Shelley|12008.0| 33|        Finance|13208.800000000001|\n",
      "|        206|      William| 8300.0| 37|             IT|            9130.0|\n",
      "|        100|       Steven|24000.0| 39|             IT|26400.000000000004|\n",
      "|        101|        Neena|17000.0| 27|          Sales|           18700.0|\n",
      "|        102|          Lex|17000.0| 37|      Marketing|           18700.0|\n",
      "|        103|    Alexander| 9000.0| 39|      Marketing|            9900.0|\n",
      "|        104|        Bruce| 6000.0| 38|             IT| 6600.000000000001|\n",
      "|        105|        David| 4800.0| 39|             IT|            5280.0|\n",
      "|        106|        Valli| 4800.0| 38|          Sales|            5280.0|\n",
      "|        107|        Diana| 4200.0| 35|          Sales|            4620.0|\n",
      "|        108|        Nancy|12008.0| 28|          Sales|13208.800000000001|\n",
      "|        109|       Daniel| 9000.0| 35|             HR|            9900.0|\n",
      "|        110|         John| 8200.0| 31|      Marketing|            9020.0|\n",
      "+-----------+-------------+-------+---+---------------+------------------+\n",
      "only showing top 20 rows\n"
     ]
    }
   ],
   "source": [
    "from pyspark.sql.functions import col\n",
    "\n",
    "employees_df = employees_df.withColumn(\"salary_after_bonus\", col(\"salary\") * 1.1)\n",
    "employees_df.show()"
   ]
  },
  {
   "cell_type": "markdown",
   "id": "70f07ee5",
   "metadata": {},
   "source": [
    "9. Find Maximum Salary by Age"
   ]
  },
  {
   "cell_type": "code",
   "execution_count": 40,
   "id": "277e80a6",
   "metadata": {},
   "outputs": [
    {
     "name": "stdout",
     "output_type": "stream",
     "text": [
      "+---+-----------+\n",
      "|age|max(salary)|\n",
      "+---+-----------+\n",
      "| 31|     8200.0|\n",
      "| 34|     7800.0|\n",
      "| 28|    12008.0|\n",
      "| 27|    17000.0|\n",
      "| 26|     3600.0|\n",
      "| 37|    17000.0|\n",
      "| 35|     9000.0|\n",
      "| 39|    24000.0|\n",
      "| 38|     6000.0|\n",
      "| 29|    10000.0|\n",
      "| 32|    13000.0|\n",
      "| 33|    12008.0|\n",
      "| 30|     8000.0|\n",
      "| 36|     7900.0|\n",
      "+---+-----------+\n",
      "\n"
     ]
    }
   ],
   "source": [
    "from pyspark.sql.functions import max\n",
    "employees_df.groupBy(\"age\").agg(max(\"salary\")).show()"
   ]
  },
  {
   "cell_type": "markdown",
   "id": "c659f4d5",
   "metadata": {},
   "source": []
  }
 ],
 "metadata": {
  "kernelspec": {
   "display_name": "Python 3",
   "language": "python",
   "name": "python3"
  },
  "language_info": {
   "codemirror_mode": {
    "name": "ipython",
    "version": 3
   },
   "file_extension": ".py",
   "mimetype": "text/x-python",
   "name": "python",
   "nbconvert_exporter": "python",
   "pygments_lexer": "ipython3",
   "version": "3.13.5"
  }
 },
 "nbformat": 4,
 "nbformat_minor": 5
}
